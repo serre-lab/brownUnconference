{
 "cells": [
  {
   "cell_type": "code",
   "execution_count": 1,
   "metadata": {},
   "outputs": [],
   "source": [
    "import json "
   ]
  },
  {
   "cell_type": "code",
   "execution_count": 2,
   "metadata": {},
   "outputs": [],
   "source": [
    "file = 'Brown_papers_projection.json'\n",
    "with open(file,'r') as f : \n",
    "    data = json.load(f)"
   ]
  },
  {
   "cell_type": "code",
   "execution_count": 3,
   "metadata": {},
   "outputs": [],
   "source": [
    "colors = ['rgb(93, 164, 214)', 'rgb(255, 144, 14)',\n",
    "               'rgb(44, 160, 101)', 'rgb(255, 65, 54)', 'rgb(25, 65, 54)', 'rgb(255, 205, 254)']"
   ]
  },
  {
   "cell_type": "code",
   "execution_count": 27,
   "metadata": {},
   "outputs": [],
   "source": [
    "data = [d for d in data if d['author']!='']"
   ]
  },
  {
   "cell_type": "code",
   "execution_count": 28,
   "metadata": {},
   "outputs": [],
   "source": [
    "for d in data: \n",
    "    if d['department'].lower()== 'clps' or 'cognitive' in d['department'].lower():\n",
    "        d['color']=colors[0]\n",
    "    elif 'cs' in d['department'].lower() or 'computer' in d['department'].lower() or 'engineering' in d['department'].lower():\n",
    "        d['color']=colors[1]\n",
    "    elif 'bio' in  d['department'].lower():\n",
    "        d['color']=colors[2]\n",
    "    elif 'neuro' in d['department'].lower():\n",
    "        d['color']=colors[3]\n",
    "    else:\n",
    "        d['color']=colors[4]\n",
    "    "
   ]
  },
  {
   "cell_type": "code",
   "execution_count": 29,
   "metadata": {},
   "outputs": [],
   "source": [
    "X = [d['pos'][0]%200 for d in data]\n",
    "Y = [d['pos'][1]%500 for d in data]\n",
    "C = [d['color'] for d in data]\n",
    "T = ['author:%s, department:%s, talk:%s'%(d['author'],d['department'],d['talk']) for d in data]\n",
    "Z = [20 if 'Short'  in d['talk'] else 30 for d in data ]\n",
    "O = [0.4 if 'Short'  in d['talk'] else 0.8 for d in data ]"
   ]
  },
  {
   "cell_type": "code",
   "execution_count": 31,
   "metadata": {},
   "outputs": [
    {
     "data": {
      "application/vnd.plotly.v1+json": {
       "config": {
        "plotlyServerURL": "https://plot.ly"
       },
       "data": [
        {
         "marker": {
          "color": [
           "rgb(93, 164, 214)",
           "rgb(93, 164, 214)",
           "rgb(255, 144, 14)",
           "rgb(255, 144, 14)",
           "rgb(25, 65, 54)",
           "rgb(255, 144, 14)",
           "rgb(25, 65, 54)",
           "rgb(93, 164, 214)",
           "rgb(255, 65, 54)",
           "rgb(255, 144, 14)",
           "rgb(25, 65, 54)",
           "rgb(255, 144, 14)",
           "rgb(255, 144, 14)",
           "rgb(25, 65, 54)",
           "rgb(255, 144, 14)",
           "rgb(255, 65, 54)",
           "rgb(255, 144, 14)",
           "rgb(93, 164, 214)",
           "rgb(255, 144, 14)",
           "rgb(255, 144, 14)",
           "rgb(255, 144, 14)",
           "rgb(25, 65, 54)",
           "rgb(25, 65, 54)",
           "rgb(93, 164, 214)",
           "rgb(25, 65, 54)",
           "rgb(255, 65, 54)",
           "rgb(25, 65, 54)",
           "rgb(93, 164, 214)",
           "rgb(255, 144, 14)",
           "rgb(255, 65, 54)",
           "rgb(93, 164, 214)",
           "rgb(44, 160, 101)",
           "rgb(255, 144, 14)",
           "rgb(25, 65, 54)",
           "rgb(25, 65, 54)",
           "rgb(255, 65, 54)",
           "rgb(44, 160, 101)",
           "rgb(255, 65, 54)",
           "rgb(93, 164, 214)",
           "rgb(93, 164, 214)",
           "rgb(255, 65, 54)",
           "rgb(25, 65, 54)",
           "rgb(255, 65, 54)",
           "rgb(255, 144, 14)",
           "rgb(93, 164, 214)",
           "rgb(255, 144, 14)",
           "rgb(25, 65, 54)",
           "rgb(93, 164, 214)",
           "rgb(255, 144, 14)",
           "rgb(255, 144, 14)",
           "rgb(255, 144, 14)",
           "rgb(25, 65, 54)",
           "rgb(255, 144, 14)",
           "rgb(255, 144, 14)",
           "rgb(25, 65, 54)",
           "rgb(255, 144, 14)",
           "rgb(44, 160, 101)",
           "rgb(93, 164, 214)",
           "rgb(255, 144, 14)",
           "rgb(93, 164, 214)",
           "rgb(25, 65, 54)",
           "rgb(25, 65, 54)",
           "rgb(255, 144, 14)",
           "rgb(255, 144, 14)",
           "rgb(255, 65, 54)",
           "rgb(93, 164, 214)",
           "rgb(25, 65, 54)",
           "rgb(25, 65, 54)",
           "rgb(255, 144, 14)",
           "rgb(255, 65, 54)",
           "rgb(93, 164, 214)",
           "rgb(93, 164, 214)",
           "rgb(255, 144, 14)",
           "rgb(255, 144, 14)",
           "rgb(93, 164, 214)",
           "rgb(255, 65, 54)",
           "rgb(25, 65, 54)",
           "rgb(255, 144, 14)",
           "rgb(44, 160, 101)",
           "rgb(93, 164, 214)",
           "rgb(25, 65, 54)",
           "rgb(255, 144, 14)",
           "rgb(25, 65, 54)"
          ],
          "opacity": [
           0.4,
           0.4,
           0.4,
           0.4,
           0.4,
           0.4,
           0.4,
           0.4,
           0.4,
           0.4,
           0.4,
           0.4,
           0.4,
           0.4,
           0.4,
           0.4,
           0.4,
           0.4,
           0.4,
           0.4,
           0.4,
           0.4,
           0.4,
           0.4,
           0.4,
           0.4,
           0.4,
           0.4,
           0.4,
           0.4,
           0.4,
           0.4,
           0.4,
           0.4,
           0.4,
           0.4,
           0.4,
           0.4,
           0.4,
           0.4,
           0.4,
           0.4,
           0.4,
           0.4,
           0.4,
           0.4,
           0.4,
           0.4,
           0.4,
           0.4,
           0.4,
           0.4,
           0.4,
           0.4,
           0.4,
           0.4,
           0.4,
           0.4,
           0.4,
           0.4,
           0.4,
           0.4,
           0.4,
           0.4,
           0.4,
           0.4,
           0.4,
           0.4,
           0.4,
           0.4,
           0.4,
           0.4,
           0.4,
           0.4,
           0.4,
           0.4,
           0.4,
           0.4,
           0.4,
           0.4,
           0.4,
           0.4,
           0.4
          ],
          "size": [
           20,
           30,
           20,
           30,
           20,
           20,
           20,
           20,
           20,
           30,
           30,
           30,
           20,
           20,
           30,
           20,
           20,
           20,
           30,
           30,
           20,
           20,
           20,
           20,
           20,
           20,
           20,
           30,
           20,
           20,
           20,
           20,
           30,
           20,
           20,
           30,
           30,
           20,
           30,
           20,
           20,
           20,
           30,
           30,
           30,
           30,
           30,
           30,
           20,
           30,
           30,
           30,
           20,
           20,
           20,
           20,
           20,
           20,
           30,
           20,
           20,
           30,
           30,
           30,
           20,
           20,
           30,
           20,
           30,
           20,
           20,
           20,
           30,
           20,
           20,
           20,
           20,
           30,
           20,
           30,
           20,
           20,
           20
          ]
         },
         "mode": "markers",
         "text": [
          "author:Jeroen van Baar, department:CLPS, talk:Short Talk",
          "author:Jiuyang Bai, department:CLPS, talk:Lightning Talk",
          "author:Iris Bahar, department:CS & Engineering, talk:Short Talk",
          "author:Iris Bahar, department:CS & Engineering, talk:Lightning Talk",
          "author:Daniel, department:Li, talk:Short Talk",
          "author:Xavier Coubez, department:Department of Physics, talk:Short Talk",
          "author:Gabriel Monteiro da Silva, department:MCB, talk:Short Talk",
          "author:Xiamin Leng, department:Cognitive, Linguistic and Psychological Sciences, Carney Institute for Brain Science, talk:Short Talk",
          "author:Stephanie Vartany, department:Brown Neuromotion Lab, talk:Short Talk",
          "author:Shahrzad Haddadan, department:Computer Science, talk:Lightning Talk",
          "author:Joel K Weltman, department:Medicine, talk:Lightning Talk",
          "author:Elaheh Raisi, department:Computer Science, talk:Lightning Talk",
          "author:Cristina Menghini, department:Computer Science/Sapienza University, talk:Short Talk",
          "author:Brenda Rubenstein, department:Chemistry, talk:Lightning Talk, Short Talk",
          "author:Bruce Donald Campbell, department:Computer Science, talk:Lightning Talk",
          "author:matt nassar, department:neuroscience, talk:Short Talk",
          "author:Josh Roy, department:Computer Science, talk:Short Talk",
          "author:Rebecca Burwell, department:CLPS, talk:Short Talk",
          "author:Kaiyu Zheng, department:Computer Science, talk:Lightning Talk",
          "author:Kaiyu Zheng, department:Computer Science, talk:Lightning Talk",
          "author:Nihal Nayak, department:Department of Computer Science/Brown University, talk:Short Talk",
          "author:Aimen Zerroug, department:CLPS - ANITI, talk:Short Talk",
          "author:Drew Linsley, department:CLPS and Carney, talk:Short Talk",
          "author:Apoorva Bhandarii, department:CLPS, talk:Short Talk",
          "author:Lakshmi Narasimhan Govindarajan, department:CLPS/Carney Institute for Brain Science, talk:Short Talk",
          "author:Shane Lee, department:Department of Neuroscience, talk:Short Talk",
          "author:Meredith Miles, department:Brown EEB, talk:Short Talk",
          "author:Debbie Yee, department:CLPS, talk:Lightning Talk",
          "author:Laura Mercurio, department:Pediatric Emergency Medicine & Brown Center for Biomedical Informatics/Brown University , talk:Lightning Talk, Short Talk",
          "author:Chen Ming, department:Neuroscience, talk:Short Talk",
          "author:Avinash Vaidya, department:Cognitive, Linguistic and Psychological Sciences, talk:Short Talk",
          "author:Kelsey Schuch, department:Molecular Biology, Cell Biology, and Biochemistry, talk:Short Talk",
          "author:Natalie Rshaidat, department:Computer Science and CLPS, talk:Lightning Talk",
          "author:Matt Ricci, department:DSI, talk:Short Talk",
          "author:Gaelen Adam, department:Heath Services, Policy, and Practice, talk:Short Talk",
          "author:Kathleen Huntzicker, department:Neuroscience (GPP), talk:Lightning Talk",
          "author:Jeremy Bigness, department:Center for Computational Molecular Biology (CCMB), talk:Lightning Talk",
          "author:Guillaume Pagnier, department:Neuroscience, talk:Short Talk",
          "author:Rachel Rac-Lubashevsky, department:CLPS, talk:Lightning Talk",
          "author:Alana Jaskir, department:CLPS, talk:Short Talk",
          "author:Linda Yu, department:Neuroscience, talk:Short Talk",
          "author:Drew Linsley, department:Brown University, talk:Short Talk",
          "author:Tiantian Li, department:Neuroscience, talk:Lightning Talk",
          "author:Michelle Akerman, department:School of Engineering, talk:Lightning Talk",
          "author:Victor Boutin, department:CLPS, talk:Lightning Talk",
          "author:Tom Sgouros, department:Computer Science/Brown, talk:Lightning Talk",
          "author:Cristian Buc Calderon, department:CLPS department, talk:Lightning Talk",
          "author:Haley Keglovits, department:CLPS, talk:Lightning Talk",
          "author:Sabina Stefan, department:Biomedical Engineering, talk:Short Talk",
          "author:Josephine Kalshoven, department:Orthopedics, Center for Biomedical Engineering, talk:Lightning Talk",
          "author:Adam Berkley, department:Computer Science, talk:Lightning Talk",
          "author:Anastacia Kudinova, department:Psychiatry and Human Behavior, talk:Lightning Talk",
          "author:Ifrah Idrees, department:Brown University - Computer Science, talk:Short Talk",
          "author:Bjorn Burkle, department:Physics, talk:Short Talk",
          "author:Mukesh Makwana, department:CLPS, Brown University, talk:Short Talk",
          "author:Wenyu Zhang, department:Physics, talk:Short Talk",
          "author:Sahar Shahamatdar, department:Center for Computational Molecular Biology, talk:Lightning Talk, Short Talk",
          "author:Minju Jung, department:CLPS, talk:Short Talk",
          "author:Monica Roy, department:Computer Science, talk:Lightning Talk",
          "author:Harrison Ritz, department:CLPS, talk:Lightning Talk, Short Talk",
          "author:Jamie Catalano, department:Molecular Pharmacology and Physiology, talk:Short Talk",
          "author:Rohit Kakodkar, department:CIS - CCV HPC, talk:Lightning Talk",
          "author:Seiji Shaw, department:Computer Science, talk:Lightning Talk",
          "author:Caleb Trotz, department:Computer Science, talk:Lightning Talk",
          "author:Ryan Miller, department:Neuroscience, talk:Short Talk",
          "author:Emily Levin, department:CLPS, talk:Short Talk",
          "author:Ehsan Barati, department:Chemistry, talk:Lightning Talk",
          "author:William Zhang, department:Applied Math, talk:Short Talk",
          "author:Isa Milefchik, department:Brown Computer Science, talk:Lightning Talk",
          "author:Seth Akers-Campbell, department:Neuroscience, talk:Short Talk",
          "author:Joseph Heffner, department:CLPS, talk:Lightning Talk, Short Talk",
          "author:Olga Lositsky, department:CLPS, talk:Short Talk",
          "author:Fumeng Yang, department:Computer Science at Brown, talk:Lightning Talk",
          "author:Dylan Sam, department:Computer Science, talk:Lightning Talk, Short Talk",
          "author:Rex Liu, department:CLPS, talk:Short Talk",
          "author:Aarit Ahuja, department:Neuroscience, talk:Short Talk",
          "author:Mathieu Chalvidal, department:Artificial and Natural Intelligence Toulouse Institute/Carney Institute for Brain Science, talk:Short Talk",
          "author:Numair Khan, department:Computer Science/Brown University, talk:Lightning Talk",
          "author:Pinar Demetci, department:Center for Computational Molecular Biology, talk:Lightning Talk, Short Talk",
          "author:Wasita Mahaphanit, department:CLPS, talk:Lightning Talk",
          "author:Paul Stey, department:Center for Computation and Visualization, talk:Lightning Talk, Short Talk",
          "author:Austin Vaitkus, department:Department of Physics, talk:Short Talk",
          "author:Hyunjoon Lee, department:Data Science Initiative, talk:Short Talk"
         ],
         "type": "scatter",
         "x": [
          115.59759521484375,
          135.88047790527344,
          128.88201904296875,
          140.03010177612305,
          70.5332260131836,
          118.05245971679688,
          178.3594455718994,
          111.4134521484375,
          52.757423400878906,
          57.245330810546875,
          2.2252633571624756,
          132.5691680908203,
          72.72144317626953,
          39.9984130859375,
          42.74284362792969,
          38.46561813354492,
          41.28903579711914,
          123.85575103759766,
          152.45275115966797,
          93.05353546142578,
          113.38988494873047,
          197.930419921875,
          34.31608581542969,
          22.99393081665039,
          43.14768981933594,
          65.90991973876953,
          38.91769027709961,
          86.03915405273438,
          23.33319664001465,
          3.864417791366577,
          3.11360502243042,
          54.62077713012695,
          197.4843623638153,
          102.84078216552734,
          166.52005767822266,
          136.42063903808594,
          157.68653869628906,
          83.61310577392578,
          89.90582275390625,
          62.22287368774414,
          182.556734085083,
          147.65856170654297,
          89.04912567138672,
          65.56110382080078,
          55.517311096191406,
          136.67421340942383,
          183.41574096679688,
          33.47634506225586,
          189.57723140716553,
          170.6724147796631,
          8.489360809326172,
          43.643524169921875,
          79.79304504394531,
          133.02086639404297,
          98.62891387939453,
          89.07634735107422,
          192.82614612579346,
          171.2326431274414,
          147.27566528320312,
          47.91514587402344,
          67.94512176513672,
          97.30219268798828,
          163.29964447021484,
          158.03129196166992,
          176.96938705444336,
          83.5301284790039,
          80.7978515625,
          141.97520065307617,
          21.290138244628906,
          65.69366455078125,
          118.46342468261719,
          193.13171195983887,
          15.130453109741211,
          21.925180435180664,
          5.431536674499512,
          13.625207901000977,
          127.0794677734375,
          103.76519012451172,
          109.72472381591797,
          93.53758239746094,
          110.632080078125,
          115.83660125732422,
          7.025216579437256
         ],
         "y": [
          100.28746795654297,
          476.3137969970703,
          495.04414796829224,
          9.592071533203125,
          450.82126235961914,
          419.09852600097656,
          393.2074661254883,
          58.33545684814453,
          423.947265625,
          65.10105895996094,
          379.54430389404297,
          49.55849075317383,
          66.66252136230469,
          489.2525634765625,
          8.794093132019043,
          59.72681427001953,
          462.3605422973633,
          18.370952606201172,
          79.27938079833984,
          120.8565673828125,
          63.51156997680664,
          482.46620750427246,
          497.7648205757141,
          23.226531982421875,
          16.522628784179688,
          32.75560760498047,
          109.59386444091797,
          61.506832122802734,
          380.65966033935547,
          141.82896423339844,
          33.157779693603516,
          142.0218048095703,
          12.089216232299805,
          40.147945404052734,
          421.1415557861328,
          32.749298095703125,
          454.2993850708008,
          410.5910873413086,
          2.5925188064575195,
          66.39547729492188,
          51.48323440551758,
          486.9864511489868,
          481.8801670074463,
          405.66221618652344,
          483.21678733825684,
          466.81690216064453,
          93.3373031616211,
          38.8021354675293,
          460.3820457458496,
          499.456445813179,
          442.0531883239746,
          390.9073944091797,
          15.57689094543457,
          433.0076446533203,
          41.28481674194336,
          446.3583869934082,
          429.8420639038086,
          479.010799407959,
          96.95096588134766,
          82.68464660644531,
          95.29759216308594,
          442.2923812866211,
          57.75325012207031,
          31.62147331237793,
          23.72149658203125,
          22.31537628173828,
          474.09292221069336,
          406.50183868408203,
          475.91790771484375,
          9.570690155029297,
          78.60165405273438,
          68.54251098632812,
          498.20774030685425,
          73.008544921875,
          53.85212707519531,
          99.95401763916016,
          31.66505241394043,
          101.3626708984375,
          478.6128120422363,
          82.08671569824219,
          94.6298828125,
          10.195576667785645,
          411.93859100341797
         ]
        }
       ],
       "layout": {
        "template": {
         "data": {
          "bar": [
           {
            "error_x": {
             "color": "#2a3f5f"
            },
            "error_y": {
             "color": "#2a3f5f"
            },
            "marker": {
             "line": {
              "color": "#E5ECF6",
              "width": 0.5
             }
            },
            "type": "bar"
           }
          ],
          "barpolar": [
           {
            "marker": {
             "line": {
              "color": "#E5ECF6",
              "width": 0.5
             }
            },
            "type": "barpolar"
           }
          ],
          "carpet": [
           {
            "aaxis": {
             "endlinecolor": "#2a3f5f",
             "gridcolor": "white",
             "linecolor": "white",
             "minorgridcolor": "white",
             "startlinecolor": "#2a3f5f"
            },
            "baxis": {
             "endlinecolor": "#2a3f5f",
             "gridcolor": "white",
             "linecolor": "white",
             "minorgridcolor": "white",
             "startlinecolor": "#2a3f5f"
            },
            "type": "carpet"
           }
          ],
          "choropleth": [
           {
            "colorbar": {
             "outlinewidth": 0,
             "ticks": ""
            },
            "type": "choropleth"
           }
          ],
          "contour": [
           {
            "colorbar": {
             "outlinewidth": 0,
             "ticks": ""
            },
            "colorscale": [
             [
              0,
              "#0d0887"
             ],
             [
              0.1111111111111111,
              "#46039f"
             ],
             [
              0.2222222222222222,
              "#7201a8"
             ],
             [
              0.3333333333333333,
              "#9c179e"
             ],
             [
              0.4444444444444444,
              "#bd3786"
             ],
             [
              0.5555555555555556,
              "#d8576b"
             ],
             [
              0.6666666666666666,
              "#ed7953"
             ],
             [
              0.7777777777777778,
              "#fb9f3a"
             ],
             [
              0.8888888888888888,
              "#fdca26"
             ],
             [
              1,
              "#f0f921"
             ]
            ],
            "type": "contour"
           }
          ],
          "contourcarpet": [
           {
            "colorbar": {
             "outlinewidth": 0,
             "ticks": ""
            },
            "type": "contourcarpet"
           }
          ],
          "heatmap": [
           {
            "colorbar": {
             "outlinewidth": 0,
             "ticks": ""
            },
            "colorscale": [
             [
              0,
              "#0d0887"
             ],
             [
              0.1111111111111111,
              "#46039f"
             ],
             [
              0.2222222222222222,
              "#7201a8"
             ],
             [
              0.3333333333333333,
              "#9c179e"
             ],
             [
              0.4444444444444444,
              "#bd3786"
             ],
             [
              0.5555555555555556,
              "#d8576b"
             ],
             [
              0.6666666666666666,
              "#ed7953"
             ],
             [
              0.7777777777777778,
              "#fb9f3a"
             ],
             [
              0.8888888888888888,
              "#fdca26"
             ],
             [
              1,
              "#f0f921"
             ]
            ],
            "type": "heatmap"
           }
          ],
          "heatmapgl": [
           {
            "colorbar": {
             "outlinewidth": 0,
             "ticks": ""
            },
            "colorscale": [
             [
              0,
              "#0d0887"
             ],
             [
              0.1111111111111111,
              "#46039f"
             ],
             [
              0.2222222222222222,
              "#7201a8"
             ],
             [
              0.3333333333333333,
              "#9c179e"
             ],
             [
              0.4444444444444444,
              "#bd3786"
             ],
             [
              0.5555555555555556,
              "#d8576b"
             ],
             [
              0.6666666666666666,
              "#ed7953"
             ],
             [
              0.7777777777777778,
              "#fb9f3a"
             ],
             [
              0.8888888888888888,
              "#fdca26"
             ],
             [
              1,
              "#f0f921"
             ]
            ],
            "type": "heatmapgl"
           }
          ],
          "histogram": [
           {
            "marker": {
             "colorbar": {
              "outlinewidth": 0,
              "ticks": ""
             }
            },
            "type": "histogram"
           }
          ],
          "histogram2d": [
           {
            "colorbar": {
             "outlinewidth": 0,
             "ticks": ""
            },
            "colorscale": [
             [
              0,
              "#0d0887"
             ],
             [
              0.1111111111111111,
              "#46039f"
             ],
             [
              0.2222222222222222,
              "#7201a8"
             ],
             [
              0.3333333333333333,
              "#9c179e"
             ],
             [
              0.4444444444444444,
              "#bd3786"
             ],
             [
              0.5555555555555556,
              "#d8576b"
             ],
             [
              0.6666666666666666,
              "#ed7953"
             ],
             [
              0.7777777777777778,
              "#fb9f3a"
             ],
             [
              0.8888888888888888,
              "#fdca26"
             ],
             [
              1,
              "#f0f921"
             ]
            ],
            "type": "histogram2d"
           }
          ],
          "histogram2dcontour": [
           {
            "colorbar": {
             "outlinewidth": 0,
             "ticks": ""
            },
            "colorscale": [
             [
              0,
              "#0d0887"
             ],
             [
              0.1111111111111111,
              "#46039f"
             ],
             [
              0.2222222222222222,
              "#7201a8"
             ],
             [
              0.3333333333333333,
              "#9c179e"
             ],
             [
              0.4444444444444444,
              "#bd3786"
             ],
             [
              0.5555555555555556,
              "#d8576b"
             ],
             [
              0.6666666666666666,
              "#ed7953"
             ],
             [
              0.7777777777777778,
              "#fb9f3a"
             ],
             [
              0.8888888888888888,
              "#fdca26"
             ],
             [
              1,
              "#f0f921"
             ]
            ],
            "type": "histogram2dcontour"
           }
          ],
          "mesh3d": [
           {
            "colorbar": {
             "outlinewidth": 0,
             "ticks": ""
            },
            "type": "mesh3d"
           }
          ],
          "parcoords": [
           {
            "line": {
             "colorbar": {
              "outlinewidth": 0,
              "ticks": ""
             }
            },
            "type": "parcoords"
           }
          ],
          "pie": [
           {
            "automargin": true,
            "type": "pie"
           }
          ],
          "scatter": [
           {
            "marker": {
             "colorbar": {
              "outlinewidth": 0,
              "ticks": ""
             }
            },
            "type": "scatter"
           }
          ],
          "scatter3d": [
           {
            "line": {
             "colorbar": {
              "outlinewidth": 0,
              "ticks": ""
             }
            },
            "marker": {
             "colorbar": {
              "outlinewidth": 0,
              "ticks": ""
             }
            },
            "type": "scatter3d"
           }
          ],
          "scattercarpet": [
           {
            "marker": {
             "colorbar": {
              "outlinewidth": 0,
              "ticks": ""
             }
            },
            "type": "scattercarpet"
           }
          ],
          "scattergeo": [
           {
            "marker": {
             "colorbar": {
              "outlinewidth": 0,
              "ticks": ""
             }
            },
            "type": "scattergeo"
           }
          ],
          "scattergl": [
           {
            "marker": {
             "colorbar": {
              "outlinewidth": 0,
              "ticks": ""
             }
            },
            "type": "scattergl"
           }
          ],
          "scattermapbox": [
           {
            "marker": {
             "colorbar": {
              "outlinewidth": 0,
              "ticks": ""
             }
            },
            "type": "scattermapbox"
           }
          ],
          "scatterpolar": [
           {
            "marker": {
             "colorbar": {
              "outlinewidth": 0,
              "ticks": ""
             }
            },
            "type": "scatterpolar"
           }
          ],
          "scatterpolargl": [
           {
            "marker": {
             "colorbar": {
              "outlinewidth": 0,
              "ticks": ""
             }
            },
            "type": "scatterpolargl"
           }
          ],
          "scatterternary": [
           {
            "marker": {
             "colorbar": {
              "outlinewidth": 0,
              "ticks": ""
             }
            },
            "type": "scatterternary"
           }
          ],
          "surface": [
           {
            "colorbar": {
             "outlinewidth": 0,
             "ticks": ""
            },
            "colorscale": [
             [
              0,
              "#0d0887"
             ],
             [
              0.1111111111111111,
              "#46039f"
             ],
             [
              0.2222222222222222,
              "#7201a8"
             ],
             [
              0.3333333333333333,
              "#9c179e"
             ],
             [
              0.4444444444444444,
              "#bd3786"
             ],
             [
              0.5555555555555556,
              "#d8576b"
             ],
             [
              0.6666666666666666,
              "#ed7953"
             ],
             [
              0.7777777777777778,
              "#fb9f3a"
             ],
             [
              0.8888888888888888,
              "#fdca26"
             ],
             [
              1,
              "#f0f921"
             ]
            ],
            "type": "surface"
           }
          ],
          "table": [
           {
            "cells": {
             "fill": {
              "color": "#EBF0F8"
             },
             "line": {
              "color": "white"
             }
            },
            "header": {
             "fill": {
              "color": "#C8D4E3"
             },
             "line": {
              "color": "white"
             }
            },
            "type": "table"
           }
          ]
         },
         "layout": {
          "annotationdefaults": {
           "arrowcolor": "#2a3f5f",
           "arrowhead": 0,
           "arrowwidth": 1
          },
          "coloraxis": {
           "colorbar": {
            "outlinewidth": 0,
            "ticks": ""
           }
          },
          "colorscale": {
           "diverging": [
            [
             0,
             "#8e0152"
            ],
            [
             0.1,
             "#c51b7d"
            ],
            [
             0.2,
             "#de77ae"
            ],
            [
             0.3,
             "#f1b6da"
            ],
            [
             0.4,
             "#fde0ef"
            ],
            [
             0.5,
             "#f7f7f7"
            ],
            [
             0.6,
             "#e6f5d0"
            ],
            [
             0.7,
             "#b8e186"
            ],
            [
             0.8,
             "#7fbc41"
            ],
            [
             0.9,
             "#4d9221"
            ],
            [
             1,
             "#276419"
            ]
           ],
           "sequential": [
            [
             0,
             "#0d0887"
            ],
            [
             0.1111111111111111,
             "#46039f"
            ],
            [
             0.2222222222222222,
             "#7201a8"
            ],
            [
             0.3333333333333333,
             "#9c179e"
            ],
            [
             0.4444444444444444,
             "#bd3786"
            ],
            [
             0.5555555555555556,
             "#d8576b"
            ],
            [
             0.6666666666666666,
             "#ed7953"
            ],
            [
             0.7777777777777778,
             "#fb9f3a"
            ],
            [
             0.8888888888888888,
             "#fdca26"
            ],
            [
             1,
             "#f0f921"
            ]
           ],
           "sequentialminus": [
            [
             0,
             "#0d0887"
            ],
            [
             0.1111111111111111,
             "#46039f"
            ],
            [
             0.2222222222222222,
             "#7201a8"
            ],
            [
             0.3333333333333333,
             "#9c179e"
            ],
            [
             0.4444444444444444,
             "#bd3786"
            ],
            [
             0.5555555555555556,
             "#d8576b"
            ],
            [
             0.6666666666666666,
             "#ed7953"
            ],
            [
             0.7777777777777778,
             "#fb9f3a"
            ],
            [
             0.8888888888888888,
             "#fdca26"
            ],
            [
             1,
             "#f0f921"
            ]
           ]
          },
          "colorway": [
           "#636efa",
           "#EF553B",
           "#00cc96",
           "#ab63fa",
           "#FFA15A",
           "#19d3f3",
           "#FF6692",
           "#B6E880",
           "#FF97FF",
           "#FECB52"
          ],
          "font": {
           "color": "#2a3f5f"
          },
          "geo": {
           "bgcolor": "white",
           "lakecolor": "white",
           "landcolor": "#E5ECF6",
           "showlakes": true,
           "showland": true,
           "subunitcolor": "white"
          },
          "hoverlabel": {
           "align": "left"
          },
          "hovermode": "closest",
          "mapbox": {
           "style": "light"
          },
          "paper_bgcolor": "white",
          "plot_bgcolor": "#E5ECF6",
          "polar": {
           "angularaxis": {
            "gridcolor": "white",
            "linecolor": "white",
            "ticks": ""
           },
           "bgcolor": "#E5ECF6",
           "radialaxis": {
            "gridcolor": "white",
            "linecolor": "white",
            "ticks": ""
           }
          },
          "scene": {
           "xaxis": {
            "backgroundcolor": "#E5ECF6",
            "gridcolor": "white",
            "gridwidth": 2,
            "linecolor": "white",
            "showbackground": true,
            "ticks": "",
            "zerolinecolor": "white"
           },
           "yaxis": {
            "backgroundcolor": "#E5ECF6",
            "gridcolor": "white",
            "gridwidth": 2,
            "linecolor": "white",
            "showbackground": true,
            "ticks": "",
            "zerolinecolor": "white"
           },
           "zaxis": {
            "backgroundcolor": "#E5ECF6",
            "gridcolor": "white",
            "gridwidth": 2,
            "linecolor": "white",
            "showbackground": true,
            "ticks": "",
            "zerolinecolor": "white"
           }
          },
          "shapedefaults": {
           "line": {
            "color": "#2a3f5f"
           }
          },
          "ternary": {
           "aaxis": {
            "gridcolor": "white",
            "linecolor": "white",
            "ticks": ""
           },
           "baxis": {
            "gridcolor": "white",
            "linecolor": "white",
            "ticks": ""
           },
           "bgcolor": "#E5ECF6",
           "caxis": {
            "gridcolor": "white",
            "linecolor": "white",
            "ticks": ""
           }
          },
          "title": {
           "x": 0.05
          },
          "xaxis": {
           "automargin": true,
           "gridcolor": "white",
           "linecolor": "white",
           "ticks": "",
           "title": {
            "standoff": 15
           },
           "zerolinecolor": "white",
           "zerolinewidth": 2
          },
          "yaxis": {
           "automargin": true,
           "gridcolor": "white",
           "linecolor": "white",
           "ticks": "",
           "title": {
            "standoff": 15
           },
           "zerolinecolor": "white",
           "zerolinewidth": 2
          }
         }
        }
       }
      },
      "text/html": [
       "<div>\n",
       "        \n",
       "        \n",
       "            <div id=\"1d8f353b-3a00-4025-ac31-260ef998c590\" class=\"plotly-graph-div\" style=\"height:525px; width:100%;\"></div>\n",
       "            <script type=\"text/javascript\">\n",
       "                require([\"plotly\"], function(Plotly) {\n",
       "                    window.PLOTLYENV=window.PLOTLYENV || {};\n",
       "                    \n",
       "                if (document.getElementById(\"1d8f353b-3a00-4025-ac31-260ef998c590\")) {\n",
       "                    Plotly.newPlot(\n",
       "                        '1d8f353b-3a00-4025-ac31-260ef998c590',\n",
       "                        [{\"marker\": {\"color\": [\"rgb(93, 164, 214)\", \"rgb(93, 164, 214)\", \"rgb(255, 144, 14)\", \"rgb(255, 144, 14)\", \"rgb(25, 65, 54)\", \"rgb(255, 144, 14)\", \"rgb(25, 65, 54)\", \"rgb(93, 164, 214)\", \"rgb(255, 65, 54)\", \"rgb(255, 144, 14)\", \"rgb(25, 65, 54)\", \"rgb(255, 144, 14)\", \"rgb(255, 144, 14)\", \"rgb(25, 65, 54)\", \"rgb(255, 144, 14)\", \"rgb(255, 65, 54)\", \"rgb(255, 144, 14)\", \"rgb(93, 164, 214)\", \"rgb(255, 144, 14)\", \"rgb(255, 144, 14)\", \"rgb(255, 144, 14)\", \"rgb(25, 65, 54)\", \"rgb(25, 65, 54)\", \"rgb(93, 164, 214)\", \"rgb(25, 65, 54)\", \"rgb(255, 65, 54)\", \"rgb(25, 65, 54)\", \"rgb(93, 164, 214)\", \"rgb(255, 144, 14)\", \"rgb(255, 65, 54)\", \"rgb(93, 164, 214)\", \"rgb(44, 160, 101)\", \"rgb(255, 144, 14)\", \"rgb(25, 65, 54)\", \"rgb(25, 65, 54)\", \"rgb(255, 65, 54)\", \"rgb(44, 160, 101)\", \"rgb(255, 65, 54)\", \"rgb(93, 164, 214)\", \"rgb(93, 164, 214)\", \"rgb(255, 65, 54)\", \"rgb(25, 65, 54)\", \"rgb(255, 65, 54)\", \"rgb(255, 144, 14)\", \"rgb(93, 164, 214)\", \"rgb(255, 144, 14)\", \"rgb(25, 65, 54)\", \"rgb(93, 164, 214)\", \"rgb(255, 144, 14)\", \"rgb(255, 144, 14)\", \"rgb(255, 144, 14)\", \"rgb(25, 65, 54)\", \"rgb(255, 144, 14)\", \"rgb(255, 144, 14)\", \"rgb(25, 65, 54)\", \"rgb(255, 144, 14)\", \"rgb(44, 160, 101)\", \"rgb(93, 164, 214)\", \"rgb(255, 144, 14)\", \"rgb(93, 164, 214)\", \"rgb(25, 65, 54)\", \"rgb(25, 65, 54)\", \"rgb(255, 144, 14)\", \"rgb(255, 144, 14)\", \"rgb(255, 65, 54)\", \"rgb(93, 164, 214)\", \"rgb(25, 65, 54)\", \"rgb(25, 65, 54)\", \"rgb(255, 144, 14)\", \"rgb(255, 65, 54)\", \"rgb(93, 164, 214)\", \"rgb(93, 164, 214)\", \"rgb(255, 144, 14)\", \"rgb(255, 144, 14)\", \"rgb(93, 164, 214)\", \"rgb(255, 65, 54)\", \"rgb(25, 65, 54)\", \"rgb(255, 144, 14)\", \"rgb(44, 160, 101)\", \"rgb(93, 164, 214)\", \"rgb(25, 65, 54)\", \"rgb(255, 144, 14)\", \"rgb(25, 65, 54)\"], \"opacity\": [0.4, 0.4, 0.4, 0.4, 0.4, 0.4, 0.4, 0.4, 0.4, 0.4, 0.4, 0.4, 0.4, 0.4, 0.4, 0.4, 0.4, 0.4, 0.4, 0.4, 0.4, 0.4, 0.4, 0.4, 0.4, 0.4, 0.4, 0.4, 0.4, 0.4, 0.4, 0.4, 0.4, 0.4, 0.4, 0.4, 0.4, 0.4, 0.4, 0.4, 0.4, 0.4, 0.4, 0.4, 0.4, 0.4, 0.4, 0.4, 0.4, 0.4, 0.4, 0.4, 0.4, 0.4, 0.4, 0.4, 0.4, 0.4, 0.4, 0.4, 0.4, 0.4, 0.4, 0.4, 0.4, 0.4, 0.4, 0.4, 0.4, 0.4, 0.4, 0.4, 0.4, 0.4, 0.4, 0.4, 0.4, 0.4, 0.4, 0.4, 0.4, 0.4, 0.4], \"size\": [20, 30, 20, 30, 20, 20, 20, 20, 20, 30, 30, 30, 20, 20, 30, 20, 20, 20, 30, 30, 20, 20, 20, 20, 20, 20, 20, 30, 20, 20, 20, 20, 30, 20, 20, 30, 30, 20, 30, 20, 20, 20, 30, 30, 30, 30, 30, 30, 20, 30, 30, 30, 20, 20, 20, 20, 20, 20, 30, 20, 20, 30, 30, 30, 20, 20, 30, 20, 30, 20, 20, 20, 30, 20, 20, 20, 20, 30, 20, 30, 20, 20, 20]}, \"mode\": \"markers\", \"text\": [\"author:Jeroen van Baar, department:CLPS, talk:Short Talk\", \"author:Jiuyang Bai, department:CLPS, talk:Lightning Talk\", \"author:Iris Bahar, department:CS & Engineering, talk:Short Talk\", \"author:Iris Bahar, department:CS & Engineering, talk:Lightning Talk\", \"author:Daniel, department:Li, talk:Short Talk\", \"author:Xavier Coubez, department:Department of Physics, talk:Short Talk\", \"author:Gabriel Monteiro da Silva, department:MCB, talk:Short Talk\", \"author:Xiamin Leng, department:Cognitive, Linguistic and Psychological Sciences, Carney Institute for Brain Science, talk:Short Talk\", \"author:Stephanie Vartany, department:Brown Neuromotion Lab, talk:Short Talk\", \"author:Shahrzad Haddadan, department:Computer Science, talk:Lightning Talk\", \"author:Joel K Weltman, department:Medicine, talk:Lightning Talk\", \"author:Elaheh Raisi, department:Computer Science, talk:Lightning Talk\", \"author:Cristina Menghini, department:Computer Science/Sapienza University, talk:Short Talk\", \"author:Brenda Rubenstein, department:Chemistry, talk:Lightning Talk, Short Talk\", \"author:Bruce Donald Campbell, department:Computer Science, talk:Lightning Talk\", \"author:matt nassar, department:neuroscience, talk:Short Talk\", \"author:Josh Roy, department:Computer Science, talk:Short Talk\", \"author:Rebecca Burwell, department:CLPS, talk:Short Talk\", \"author:Kaiyu Zheng, department:Computer Science, talk:Lightning Talk\", \"author:Kaiyu Zheng, department:Computer Science, talk:Lightning Talk\", \"author:Nihal Nayak, department:Department of Computer Science/Brown University, talk:Short Talk\", \"author:Aimen Zerroug, department:CLPS - ANITI, talk:Short Talk\", \"author:Drew Linsley, department:CLPS and Carney, talk:Short Talk\", \"author:Apoorva Bhandarii, department:CLPS, talk:Short Talk\", \"author:Lakshmi Narasimhan Govindarajan, department:CLPS/Carney Institute for Brain Science, talk:Short Talk\", \"author:Shane Lee, department:Department of Neuroscience, talk:Short Talk\", \"author:Meredith Miles, department:Brown EEB, talk:Short Talk\", \"author:Debbie Yee, department:CLPS, talk:Lightning Talk\", \"author:Laura Mercurio, department:Pediatric Emergency Medicine & Brown Center for Biomedical Informatics/Brown University , talk:Lightning Talk, Short Talk\", \"author:Chen Ming, department:Neuroscience, talk:Short Talk\", \"author:Avinash Vaidya, department:Cognitive, Linguistic and Psychological Sciences, talk:Short Talk\", \"author:Kelsey Schuch, department:Molecular Biology, Cell Biology, and Biochemistry, talk:Short Talk\", \"author:Natalie Rshaidat, department:Computer Science and CLPS, talk:Lightning Talk\", \"author:Matt Ricci, department:DSI, talk:Short Talk\", \"author:Gaelen Adam, department:Heath Services, Policy, and Practice, talk:Short Talk\", \"author:Kathleen Huntzicker, department:Neuroscience (GPP), talk:Lightning Talk\", \"author:Jeremy Bigness, department:Center for Computational Molecular Biology (CCMB), talk:Lightning Talk\", \"author:Guillaume Pagnier, department:Neuroscience, talk:Short Talk\", \"author:Rachel Rac-Lubashevsky, department:CLPS, talk:Lightning Talk\", \"author:Alana Jaskir, department:CLPS, talk:Short Talk\", \"author:Linda Yu, department:Neuroscience, talk:Short Talk\", \"author:Drew Linsley, department:Brown University, talk:Short Talk\", \"author:Tiantian Li, department:Neuroscience, talk:Lightning Talk\", \"author:Michelle Akerman, department:School of Engineering, talk:Lightning Talk\", \"author:Victor Boutin, department:CLPS, talk:Lightning Talk\", \"author:Tom Sgouros, department:Computer Science/Brown, talk:Lightning Talk\", \"author:Cristian Buc Calderon, department:CLPS department, talk:Lightning Talk\", \"author:Haley Keglovits, department:CLPS, talk:Lightning Talk\", \"author:Sabina Stefan, department:Biomedical Engineering, talk:Short Talk\", \"author:Josephine Kalshoven, department:Orthopedics, Center for Biomedical Engineering, talk:Lightning Talk\", \"author:Adam Berkley, department:Computer Science, talk:Lightning Talk\", \"author:Anastacia Kudinova, department:Psychiatry and Human Behavior, talk:Lightning Talk\", \"author:Ifrah Idrees, department:Brown University - Computer Science, talk:Short Talk\", \"author:Bjorn Burkle, department:Physics, talk:Short Talk\", \"author:Mukesh Makwana, department:CLPS, Brown University, talk:Short Talk\", \"author:Wenyu Zhang, department:Physics, talk:Short Talk\", \"author:Sahar Shahamatdar, department:Center for Computational Molecular Biology, talk:Lightning Talk, Short Talk\", \"author:Minju Jung, department:CLPS, talk:Short Talk\", \"author:Monica Roy, department:Computer Science, talk:Lightning Talk\", \"author:Harrison Ritz, department:CLPS, talk:Lightning Talk, Short Talk\", \"author:Jamie Catalano, department:Molecular Pharmacology and Physiology, talk:Short Talk\", \"author:Rohit Kakodkar, department:CIS - CCV HPC, talk:Lightning Talk\", \"author:Seiji Shaw, department:Computer Science, talk:Lightning Talk\", \"author:Caleb Trotz, department:Computer Science, talk:Lightning Talk\", \"author:Ryan Miller, department:Neuroscience, talk:Short Talk\", \"author:Emily Levin, department:CLPS, talk:Short Talk\", \"author:Ehsan Barati, department:Chemistry, talk:Lightning Talk\", \"author:William Zhang, department:Applied Math, talk:Short Talk\", \"author:Isa Milefchik, department:Brown Computer Science, talk:Lightning Talk\", \"author:Seth Akers-Campbell, department:Neuroscience, talk:Short Talk\", \"author:Joseph Heffner, department:CLPS, talk:Lightning Talk, Short Talk\", \"author:Olga Lositsky, department:CLPS, talk:Short Talk\", \"author:Fumeng Yang, department:Computer Science at Brown, talk:Lightning Talk\", \"author:Dylan Sam, department:Computer Science, talk:Lightning Talk, Short Talk\", \"author:Rex Liu, department:CLPS, talk:Short Talk\", \"author:Aarit Ahuja, department:Neuroscience, talk:Short Talk\", \"author:Mathieu Chalvidal, department:Artificial and Natural Intelligence Toulouse Institute/Carney Institute for Brain Science, talk:Short Talk\", \"author:Numair Khan, department:Computer Science/Brown University, talk:Lightning Talk\", \"author:Pinar Demetci, department:Center for Computational Molecular Biology, talk:Lightning Talk, Short Talk\", \"author:Wasita Mahaphanit, department:CLPS, talk:Lightning Talk\", \"author:Paul Stey, department:Center for Computation and Visualization, talk:Lightning Talk, Short Talk\", \"author:Austin Vaitkus, department:Department of Physics, talk:Short Talk\", \"author:Hyunjoon Lee, department:Data Science Initiative, talk:Short Talk\"], \"type\": \"scatter\", \"x\": [115.59759521484375, 135.88047790527344, 128.88201904296875, 140.03010177612305, 70.5332260131836, 118.05245971679688, 178.3594455718994, 111.4134521484375, 52.757423400878906, 57.245330810546875, 2.2252633571624756, 132.5691680908203, 72.72144317626953, 39.9984130859375, 42.74284362792969, 38.46561813354492, 41.28903579711914, 123.85575103759766, 152.45275115966797, 93.05353546142578, 113.38988494873047, 197.930419921875, 34.31608581542969, 22.99393081665039, 43.14768981933594, 65.90991973876953, 38.91769027709961, 86.03915405273438, 23.33319664001465, 3.864417791366577, 3.11360502243042, 54.62077713012695, 197.4843623638153, 102.84078216552734, 166.52005767822266, 136.42063903808594, 157.68653869628906, 83.61310577392578, 89.90582275390625, 62.22287368774414, 182.556734085083, 147.65856170654297, 89.04912567138672, 65.56110382080078, 55.517311096191406, 136.67421340942383, 183.41574096679688, 33.47634506225586, 189.57723140716553, 170.6724147796631, 8.489360809326172, 43.643524169921875, 79.79304504394531, 133.02086639404297, 98.62891387939453, 89.07634735107422, 192.82614612579346, 171.2326431274414, 147.27566528320312, 47.91514587402344, 67.94512176513672, 97.30219268798828, 163.29964447021484, 158.03129196166992, 176.96938705444336, 83.5301284790039, 80.7978515625, 141.97520065307617, 21.290138244628906, 65.69366455078125, 118.46342468261719, 193.13171195983887, 15.130453109741211, 21.925180435180664, 5.431536674499512, 13.625207901000977, 127.0794677734375, 103.76519012451172, 109.72472381591797, 93.53758239746094, 110.632080078125, 115.83660125732422, 7.025216579437256], \"y\": [100.28746795654297, 476.3137969970703, 495.04414796829224, 9.592071533203125, 450.82126235961914, 419.09852600097656, 393.2074661254883, 58.33545684814453, 423.947265625, 65.10105895996094, 379.54430389404297, 49.55849075317383, 66.66252136230469, 489.2525634765625, 8.794093132019043, 59.72681427001953, 462.3605422973633, 18.370952606201172, 79.27938079833984, 120.8565673828125, 63.51156997680664, 482.46620750427246, 497.7648205757141, 23.226531982421875, 16.522628784179688, 32.75560760498047, 109.59386444091797, 61.506832122802734, 380.65966033935547, 141.82896423339844, 33.157779693603516, 142.0218048095703, 12.089216232299805, 40.147945404052734, 421.1415557861328, 32.749298095703125, 454.2993850708008, 410.5910873413086, 2.5925188064575195, 66.39547729492188, 51.48323440551758, 486.9864511489868, 481.8801670074463, 405.66221618652344, 483.21678733825684, 466.81690216064453, 93.3373031616211, 38.8021354675293, 460.3820457458496, 499.456445813179, 442.0531883239746, 390.9073944091797, 15.57689094543457, 433.0076446533203, 41.28481674194336, 446.3583869934082, 429.8420639038086, 479.010799407959, 96.95096588134766, 82.68464660644531, 95.29759216308594, 442.2923812866211, 57.75325012207031, 31.62147331237793, 23.72149658203125, 22.31537628173828, 474.09292221069336, 406.50183868408203, 475.91790771484375, 9.570690155029297, 78.60165405273438, 68.54251098632812, 498.20774030685425, 73.008544921875, 53.85212707519531, 99.95401763916016, 31.66505241394043, 101.3626708984375, 478.6128120422363, 82.08671569824219, 94.6298828125, 10.195576667785645, 411.93859100341797]}],\n",
       "                        {\"template\": {\"data\": {\"bar\": [{\"error_x\": {\"color\": \"#2a3f5f\"}, \"error_y\": {\"color\": \"#2a3f5f\"}, \"marker\": {\"line\": {\"color\": \"#E5ECF6\", \"width\": 0.5}}, \"type\": \"bar\"}], \"barpolar\": [{\"marker\": {\"line\": {\"color\": \"#E5ECF6\", \"width\": 0.5}}, \"type\": \"barpolar\"}], \"carpet\": [{\"aaxis\": {\"endlinecolor\": \"#2a3f5f\", \"gridcolor\": \"white\", \"linecolor\": \"white\", \"minorgridcolor\": \"white\", \"startlinecolor\": \"#2a3f5f\"}, \"baxis\": {\"endlinecolor\": \"#2a3f5f\", \"gridcolor\": \"white\", \"linecolor\": \"white\", \"minorgridcolor\": \"white\", \"startlinecolor\": \"#2a3f5f\"}, \"type\": \"carpet\"}], \"choropleth\": [{\"colorbar\": {\"outlinewidth\": 0, \"ticks\": \"\"}, \"type\": \"choropleth\"}], \"contour\": [{\"colorbar\": {\"outlinewidth\": 0, \"ticks\": \"\"}, \"colorscale\": [[0.0, \"#0d0887\"], [0.1111111111111111, \"#46039f\"], [0.2222222222222222, \"#7201a8\"], [0.3333333333333333, \"#9c179e\"], [0.4444444444444444, \"#bd3786\"], [0.5555555555555556, \"#d8576b\"], [0.6666666666666666, \"#ed7953\"], [0.7777777777777778, \"#fb9f3a\"], [0.8888888888888888, \"#fdca26\"], [1.0, \"#f0f921\"]], \"type\": \"contour\"}], \"contourcarpet\": [{\"colorbar\": {\"outlinewidth\": 0, \"ticks\": \"\"}, \"type\": \"contourcarpet\"}], \"heatmap\": [{\"colorbar\": {\"outlinewidth\": 0, \"ticks\": \"\"}, \"colorscale\": [[0.0, \"#0d0887\"], [0.1111111111111111, \"#46039f\"], [0.2222222222222222, \"#7201a8\"], [0.3333333333333333, \"#9c179e\"], [0.4444444444444444, \"#bd3786\"], [0.5555555555555556, \"#d8576b\"], [0.6666666666666666, \"#ed7953\"], [0.7777777777777778, \"#fb9f3a\"], [0.8888888888888888, \"#fdca26\"], [1.0, \"#f0f921\"]], \"type\": \"heatmap\"}], \"heatmapgl\": [{\"colorbar\": {\"outlinewidth\": 0, \"ticks\": \"\"}, \"colorscale\": [[0.0, \"#0d0887\"], [0.1111111111111111, \"#46039f\"], [0.2222222222222222, \"#7201a8\"], [0.3333333333333333, \"#9c179e\"], [0.4444444444444444, \"#bd3786\"], [0.5555555555555556, \"#d8576b\"], [0.6666666666666666, \"#ed7953\"], [0.7777777777777778, \"#fb9f3a\"], [0.8888888888888888, \"#fdca26\"], [1.0, \"#f0f921\"]], \"type\": \"heatmapgl\"}], \"histogram\": [{\"marker\": {\"colorbar\": {\"outlinewidth\": 0, \"ticks\": \"\"}}, \"type\": \"histogram\"}], \"histogram2d\": [{\"colorbar\": {\"outlinewidth\": 0, \"ticks\": \"\"}, \"colorscale\": [[0.0, \"#0d0887\"], [0.1111111111111111, \"#46039f\"], [0.2222222222222222, \"#7201a8\"], [0.3333333333333333, \"#9c179e\"], [0.4444444444444444, \"#bd3786\"], [0.5555555555555556, \"#d8576b\"], [0.6666666666666666, \"#ed7953\"], [0.7777777777777778, \"#fb9f3a\"], [0.8888888888888888, \"#fdca26\"], [1.0, \"#f0f921\"]], \"type\": \"histogram2d\"}], \"histogram2dcontour\": [{\"colorbar\": {\"outlinewidth\": 0, \"ticks\": \"\"}, \"colorscale\": [[0.0, \"#0d0887\"], [0.1111111111111111, \"#46039f\"], [0.2222222222222222, \"#7201a8\"], [0.3333333333333333, \"#9c179e\"], [0.4444444444444444, \"#bd3786\"], [0.5555555555555556, \"#d8576b\"], [0.6666666666666666, \"#ed7953\"], [0.7777777777777778, \"#fb9f3a\"], [0.8888888888888888, \"#fdca26\"], [1.0, \"#f0f921\"]], \"type\": \"histogram2dcontour\"}], \"mesh3d\": [{\"colorbar\": {\"outlinewidth\": 0, \"ticks\": \"\"}, \"type\": \"mesh3d\"}], \"parcoords\": [{\"line\": {\"colorbar\": {\"outlinewidth\": 0, \"ticks\": \"\"}}, \"type\": \"parcoords\"}], \"pie\": [{\"automargin\": true, \"type\": \"pie\"}], \"scatter\": [{\"marker\": {\"colorbar\": {\"outlinewidth\": 0, \"ticks\": \"\"}}, \"type\": \"scatter\"}], \"scatter3d\": [{\"line\": {\"colorbar\": {\"outlinewidth\": 0, \"ticks\": \"\"}}, \"marker\": {\"colorbar\": {\"outlinewidth\": 0, \"ticks\": \"\"}}, \"type\": \"scatter3d\"}], \"scattercarpet\": [{\"marker\": {\"colorbar\": {\"outlinewidth\": 0, \"ticks\": \"\"}}, \"type\": \"scattercarpet\"}], \"scattergeo\": [{\"marker\": {\"colorbar\": {\"outlinewidth\": 0, \"ticks\": \"\"}}, \"type\": \"scattergeo\"}], \"scattergl\": [{\"marker\": {\"colorbar\": {\"outlinewidth\": 0, \"ticks\": \"\"}}, \"type\": \"scattergl\"}], \"scattermapbox\": [{\"marker\": {\"colorbar\": {\"outlinewidth\": 0, \"ticks\": \"\"}}, \"type\": \"scattermapbox\"}], \"scatterpolar\": [{\"marker\": {\"colorbar\": {\"outlinewidth\": 0, \"ticks\": \"\"}}, \"type\": \"scatterpolar\"}], \"scatterpolargl\": [{\"marker\": {\"colorbar\": {\"outlinewidth\": 0, \"ticks\": \"\"}}, \"type\": \"scatterpolargl\"}], \"scatterternary\": [{\"marker\": {\"colorbar\": {\"outlinewidth\": 0, \"ticks\": \"\"}}, \"type\": \"scatterternary\"}], \"surface\": [{\"colorbar\": {\"outlinewidth\": 0, \"ticks\": \"\"}, \"colorscale\": [[0.0, \"#0d0887\"], [0.1111111111111111, \"#46039f\"], [0.2222222222222222, \"#7201a8\"], [0.3333333333333333, \"#9c179e\"], [0.4444444444444444, \"#bd3786\"], [0.5555555555555556, \"#d8576b\"], [0.6666666666666666, \"#ed7953\"], [0.7777777777777778, \"#fb9f3a\"], [0.8888888888888888, \"#fdca26\"], [1.0, \"#f0f921\"]], \"type\": \"surface\"}], \"table\": [{\"cells\": {\"fill\": {\"color\": \"#EBF0F8\"}, \"line\": {\"color\": \"white\"}}, \"header\": {\"fill\": {\"color\": \"#C8D4E3\"}, \"line\": {\"color\": \"white\"}}, \"type\": \"table\"}]}, \"layout\": {\"annotationdefaults\": {\"arrowcolor\": \"#2a3f5f\", \"arrowhead\": 0, \"arrowwidth\": 1}, \"coloraxis\": {\"colorbar\": {\"outlinewidth\": 0, \"ticks\": \"\"}}, \"colorscale\": {\"diverging\": [[0, \"#8e0152\"], [0.1, \"#c51b7d\"], [0.2, \"#de77ae\"], [0.3, \"#f1b6da\"], [0.4, \"#fde0ef\"], [0.5, \"#f7f7f7\"], [0.6, \"#e6f5d0\"], [0.7, \"#b8e186\"], [0.8, \"#7fbc41\"], [0.9, \"#4d9221\"], [1, \"#276419\"]], \"sequential\": [[0.0, \"#0d0887\"], [0.1111111111111111, \"#46039f\"], [0.2222222222222222, \"#7201a8\"], [0.3333333333333333, \"#9c179e\"], [0.4444444444444444, \"#bd3786\"], [0.5555555555555556, \"#d8576b\"], [0.6666666666666666, \"#ed7953\"], [0.7777777777777778, \"#fb9f3a\"], [0.8888888888888888, \"#fdca26\"], [1.0, \"#f0f921\"]], \"sequentialminus\": [[0.0, \"#0d0887\"], [0.1111111111111111, \"#46039f\"], [0.2222222222222222, \"#7201a8\"], [0.3333333333333333, \"#9c179e\"], [0.4444444444444444, \"#bd3786\"], [0.5555555555555556, \"#d8576b\"], [0.6666666666666666, \"#ed7953\"], [0.7777777777777778, \"#fb9f3a\"], [0.8888888888888888, \"#fdca26\"], [1.0, \"#f0f921\"]]}, \"colorway\": [\"#636efa\", \"#EF553B\", \"#00cc96\", \"#ab63fa\", \"#FFA15A\", \"#19d3f3\", \"#FF6692\", \"#B6E880\", \"#FF97FF\", \"#FECB52\"], \"font\": {\"color\": \"#2a3f5f\"}, \"geo\": {\"bgcolor\": \"white\", \"lakecolor\": \"white\", \"landcolor\": \"#E5ECF6\", \"showlakes\": true, \"showland\": true, \"subunitcolor\": \"white\"}, \"hoverlabel\": {\"align\": \"left\"}, \"hovermode\": \"closest\", \"mapbox\": {\"style\": \"light\"}, \"paper_bgcolor\": \"white\", \"plot_bgcolor\": \"#E5ECF6\", \"polar\": {\"angularaxis\": {\"gridcolor\": \"white\", \"linecolor\": \"white\", \"ticks\": \"\"}, \"bgcolor\": \"#E5ECF6\", \"radialaxis\": {\"gridcolor\": \"white\", \"linecolor\": \"white\", \"ticks\": \"\"}}, \"scene\": {\"xaxis\": {\"backgroundcolor\": \"#E5ECF6\", \"gridcolor\": \"white\", \"gridwidth\": 2, \"linecolor\": \"white\", \"showbackground\": true, \"ticks\": \"\", \"zerolinecolor\": \"white\"}, \"yaxis\": {\"backgroundcolor\": \"#E5ECF6\", \"gridcolor\": \"white\", \"gridwidth\": 2, \"linecolor\": \"white\", \"showbackground\": true, \"ticks\": \"\", \"zerolinecolor\": \"white\"}, \"zaxis\": {\"backgroundcolor\": \"#E5ECF6\", \"gridcolor\": \"white\", \"gridwidth\": 2, \"linecolor\": \"white\", \"showbackground\": true, \"ticks\": \"\", \"zerolinecolor\": \"white\"}}, \"shapedefaults\": {\"line\": {\"color\": \"#2a3f5f\"}}, \"ternary\": {\"aaxis\": {\"gridcolor\": \"white\", \"linecolor\": \"white\", \"ticks\": \"\"}, \"baxis\": {\"gridcolor\": \"white\", \"linecolor\": \"white\", \"ticks\": \"\"}, \"bgcolor\": \"#E5ECF6\", \"caxis\": {\"gridcolor\": \"white\", \"linecolor\": \"white\", \"ticks\": \"\"}}, \"title\": {\"x\": 0.05}, \"xaxis\": {\"automargin\": true, \"gridcolor\": \"white\", \"linecolor\": \"white\", \"ticks\": \"\", \"title\": {\"standoff\": 15}, \"zerolinecolor\": \"white\", \"zerolinewidth\": 2}, \"yaxis\": {\"automargin\": true, \"gridcolor\": \"white\", \"linecolor\": \"white\", \"ticks\": \"\", \"title\": {\"standoff\": 15}, \"zerolinecolor\": \"white\", \"zerolinewidth\": 2}}}},\n",
       "                        {\"responsive\": true}\n",
       "                    ).then(function(){\n",
       "                            \n",
       "var gd = document.getElementById('1d8f353b-3a00-4025-ac31-260ef998c590');\n",
       "var x = new MutationObserver(function (mutations, observer) {{\n",
       "        var display = window.getComputedStyle(gd).display;\n",
       "        if (!display || display === 'none') {{\n",
       "            console.log([gd, 'removed!']);\n",
       "            Plotly.purge(gd);\n",
       "            observer.disconnect();\n",
       "        }}\n",
       "}});\n",
       "\n",
       "// Listen for the removal of the full notebook cells\n",
       "var notebookContainer = gd.closest('#notebook-container');\n",
       "if (notebookContainer) {{\n",
       "    x.observe(notebookContainer, {childList: true});\n",
       "}}\n",
       "\n",
       "// Listen for the clearing of the current output cell\n",
       "var outputEl = gd.closest('.output');\n",
       "if (outputEl) {{\n",
       "    x.observe(outputEl, {childList: true});\n",
       "}}\n",
       "\n",
       "                        })\n",
       "                };\n",
       "                });\n",
       "            </script>\n",
       "        </div>"
      ]
     },
     "metadata": {},
     "output_type": "display_data"
    }
   ],
   "source": [
    "import plotly.graph_objects as go\n",
    "\n",
    "fig = go.Figure(data=[go.Scatter(\n",
    "    x=X, y=Y,text=T,\n",
    "    mode='markers',\n",
    "    marker=dict(\n",
    "        color=C,\n",
    "        opacity= [0.4]*len(X),\n",
    "        size=Z,\n",
    "    )\n",
    ")])\n",
    "\n",
    "fig.show()\n",
    "fig.write_html('visualization.html')"
   ]
  },
  {
   "cell_type": "code",
   "execution_count": null,
   "metadata": {},
   "outputs": [],
   "source": []
  }
 ],
 "metadata": {
  "kernelspec": {
   "display_name": "Python 3",
   "language": "python",
   "name": "python3"
  },
  "language_info": {
   "codemirror_mode": {
    "name": "ipython",
    "version": 3
   },
   "file_extension": ".py",
   "mimetype": "text/x-python",
   "name": "python",
   "nbconvert_exporter": "python",
   "pygments_lexer": "ipython3",
   "version": "3.7.6"
  }
 },
 "nbformat": 4,
 "nbformat_minor": 4
}
